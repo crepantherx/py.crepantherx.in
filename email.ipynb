{
 "cells": [
  {
   "metadata": {
    "ExecuteTime": {
     "end_time": "2024-10-08T13:25:26.458918Z",
     "start_time": "2024-10-08T13:25:26.446402Z"
    }
   },
   "cell_type": "code",
   "source": [
    "def sendEmail(reciever, subject, body):\n",
    "    \n",
    "    import smtplib\n",
    "    from email.mime.text import MIMEText\n",
    "    from email.mime.multipart import MIMEMultipart\n",
    "    \n",
    "    \n",
    "    server = smtplib.SMTP_SSL('smtp.gmail.com', 465)\n",
    "    server.login('work.crepantherx@gmail.com', 'usvb ztnm rlvn dzxs')\n",
    "    message = MIMEMultipart() \n",
    "    message['From'] = 'work.crepantherx@gmail.com'\n",
    "    message['To'] = reciever\n",
    "    message['Subject'] = subject\n",
    "    message.attach(MIMEText(body, 'plain'))\n",
    "    server.sendmail(message['From'], message['To'], message.as_string())\n"
   ],
   "id": "9b8fcaf84987d54a",
   "outputs": [],
   "execution_count": 44
  },
  {
   "metadata": {
    "ExecuteTime": {
     "end_time": "2024-10-08T13:24:46.532829Z",
     "start_time": "2024-10-08T13:24:43.714777Z"
    }
   },
   "cell_type": "code",
   "source": "result= sendEmail('dwivedijuhi01@gmail.com', 'Hi', 'Hello')",
   "id": "e96041c4772bb9fb",
   "outputs": [],
   "execution_count": 43
  },
  {
   "metadata": {
    "ExecuteTime": {
     "end_time": "2024-10-08T13:26:06.530028Z",
     "start_time": "2024-10-08T13:26:06.521758Z"
    }
   },
   "cell_type": "code",
   "source": [
    "from django.shortcuts import render\n",
    "from django.http import HttpResponse"
   ],
   "id": "68b589b79e7f7330",
   "outputs": [],
   "execution_count": 49
  },
  {
   "metadata": {
    "ExecuteTime": {
     "end_time": "2024-10-08T13:26:09.378347Z",
     "start_time": "2024-10-08T13:26:09.336418Z"
    }
   },
   "cell_type": "code",
   "source": "HttpResponse(f\"Form submitted successfully! {result}\")",
   "id": "fedb1bdd0ed3e4b2",
   "outputs": [
    {
     "ename": "ImproperlyConfigured",
     "evalue": "Requested setting DEFAULT_CHARSET, but settings are not configured. You must either define the environment variable DJANGO_SETTINGS_MODULE or call settings.configure() before accessing settings.",
     "output_type": "error",
     "traceback": [
      "\u001B[0;31m---------------------------------------------------------------------------\u001B[0m",
      "\u001B[0;31mImproperlyConfigured\u001B[0m                      Traceback (most recent call last)",
      "Cell \u001B[0;32mIn[51], line 1\u001B[0m\n\u001B[0;32m----> 1\u001B[0m \u001B[43mHttpResponse\u001B[49m\u001B[43m(\u001B[49m\u001B[38;5;124;43mf\u001B[39;49m\u001B[38;5;124;43m\"\u001B[39;49m\u001B[38;5;124;43mForm submitted successfully! \u001B[39;49m\u001B[38;5;132;43;01m{\u001B[39;49;00m\u001B[43mresult\u001B[49m\u001B[38;5;132;43;01m}\u001B[39;49;00m\u001B[38;5;124;43m\"\u001B[39;49m\u001B[43m)\u001B[49m\n",
      "File \u001B[0;32m~/PycharmProjects/py.crepantherx.in/venv/lib/python3.11/site-packages/django/http/response.py:371\u001B[0m, in \u001B[0;36mHttpResponse.__init__\u001B[0;34m(self, content, *args, **kwargs)\u001B[0m\n\u001B[1;32m    370\u001B[0m \u001B[38;5;28;01mdef\u001B[39;00m \u001B[38;5;21m__init__\u001B[39m(\u001B[38;5;28mself\u001B[39m, content\u001B[38;5;241m=\u001B[39m\u001B[38;5;124mb\u001B[39m\u001B[38;5;124m\"\u001B[39m\u001B[38;5;124m\"\u001B[39m, \u001B[38;5;241m*\u001B[39margs, \u001B[38;5;241m*\u001B[39m\u001B[38;5;241m*\u001B[39mkwargs):\n\u001B[0;32m--> 371\u001B[0m     \u001B[38;5;28;43msuper\u001B[39;49m\u001B[43m(\u001B[49m\u001B[43m)\u001B[49m\u001B[38;5;241;43m.\u001B[39;49m\u001B[38;5;21;43m__init__\u001B[39;49m\u001B[43m(\u001B[49m\u001B[38;5;241;43m*\u001B[39;49m\u001B[43margs\u001B[49m\u001B[43m,\u001B[49m\u001B[43m \u001B[49m\u001B[38;5;241;43m*\u001B[39;49m\u001B[38;5;241;43m*\u001B[39;49m\u001B[43mkwargs\u001B[49m\u001B[43m)\u001B[49m\n\u001B[1;32m    372\u001B[0m     \u001B[38;5;66;03m# Content is a bytestring. See the `content` property methods.\u001B[39;00m\n\u001B[1;32m    373\u001B[0m     \u001B[38;5;28mself\u001B[39m\u001B[38;5;241m.\u001B[39mcontent \u001B[38;5;241m=\u001B[39m content\n",
      "File \u001B[0;32m~/PycharmProjects/py.crepantherx.in/venv/lib/python3.11/site-packages/django/http/response.py:116\u001B[0m, in \u001B[0;36mHttpResponseBase.__init__\u001B[0;34m(self, content_type, status, reason, charset, headers)\u001B[0m\n\u001B[1;32m    114\u001B[0m \u001B[38;5;28;01mif\u001B[39;00m \u001B[38;5;124m\"\u001B[39m\u001B[38;5;124mContent-Type\u001B[39m\u001B[38;5;124m\"\u001B[39m \u001B[38;5;129;01mnot\u001B[39;00m \u001B[38;5;129;01min\u001B[39;00m \u001B[38;5;28mself\u001B[39m\u001B[38;5;241m.\u001B[39mheaders:\n\u001B[1;32m    115\u001B[0m     \u001B[38;5;28;01mif\u001B[39;00m content_type \u001B[38;5;129;01mis\u001B[39;00m \u001B[38;5;28;01mNone\u001B[39;00m:\n\u001B[0;32m--> 116\u001B[0m         content_type \u001B[38;5;241m=\u001B[39m \u001B[38;5;124mf\u001B[39m\u001B[38;5;124m\"\u001B[39m\u001B[38;5;124mtext/html; charset=\u001B[39m\u001B[38;5;132;01m{\u001B[39;00m\u001B[38;5;28;43mself\u001B[39;49m\u001B[38;5;241;43m.\u001B[39;49m\u001B[43mcharset\u001B[49m\u001B[38;5;132;01m}\u001B[39;00m\u001B[38;5;124m\"\u001B[39m\n\u001B[1;32m    117\u001B[0m     \u001B[38;5;28mself\u001B[39m\u001B[38;5;241m.\u001B[39mheaders[\u001B[38;5;124m\"\u001B[39m\u001B[38;5;124mContent-Type\u001B[39m\u001B[38;5;124m\"\u001B[39m] \u001B[38;5;241m=\u001B[39m content_type\n\u001B[1;32m    118\u001B[0m \u001B[38;5;28;01melif\u001B[39;00m content_type:\n",
      "File \u001B[0;32m~/PycharmProjects/py.crepantherx.in/venv/lib/python3.11/site-packages/django/http/response.py:164\u001B[0m, in \u001B[0;36mHttpResponseBase.charset\u001B[0;34m(self)\u001B[0m\n\u001B[1;32m    158\u001B[0m     \u001B[38;5;28;01mif\u001B[39;00m matched \u001B[38;5;241m:=\u001B[39m _charset_from_content_type_re\u001B[38;5;241m.\u001B[39msearch(content_type):\n\u001B[1;32m    159\u001B[0m         \u001B[38;5;66;03m# Extract the charset and strip its double quotes.\u001B[39;00m\n\u001B[1;32m    160\u001B[0m         \u001B[38;5;66;03m# Note that having parsed it from the Content-Type, we don't\u001B[39;00m\n\u001B[1;32m    161\u001B[0m         \u001B[38;5;66;03m# store it back into the _charset for later intentionally, to\u001B[39;00m\n\u001B[1;32m    162\u001B[0m         \u001B[38;5;66;03m# allow for the Content-Type to be switched again later.\u001B[39;00m\n\u001B[1;32m    163\u001B[0m         \u001B[38;5;28;01mreturn\u001B[39;00m matched[\u001B[38;5;124m\"\u001B[39m\u001B[38;5;124mcharset\u001B[39m\u001B[38;5;124m\"\u001B[39m]\u001B[38;5;241m.\u001B[39mreplace(\u001B[38;5;124m'\u001B[39m\u001B[38;5;124m\"\u001B[39m\u001B[38;5;124m'\u001B[39m, \u001B[38;5;124m\"\u001B[39m\u001B[38;5;124m\"\u001B[39m)\n\u001B[0;32m--> 164\u001B[0m \u001B[38;5;28;01mreturn\u001B[39;00m \u001B[43msettings\u001B[49m\u001B[38;5;241;43m.\u001B[39;49m\u001B[43mDEFAULT_CHARSET\u001B[49m\n",
      "File \u001B[0;32m~/PycharmProjects/py.crepantherx.in/venv/lib/python3.11/site-packages/django/conf/__init__.py:92\u001B[0m, in \u001B[0;36mLazySettings.__getattr__\u001B[0;34m(self, name)\u001B[0m\n\u001B[1;32m     90\u001B[0m \u001B[38;5;250m\u001B[39m\u001B[38;5;124;03m\"\"\"Return the value of a setting and cache it in self.__dict__.\"\"\"\u001B[39;00m\n\u001B[1;32m     91\u001B[0m \u001B[38;5;28;01mif\u001B[39;00m (_wrapped \u001B[38;5;241m:=\u001B[39m \u001B[38;5;28mself\u001B[39m\u001B[38;5;241m.\u001B[39m_wrapped) \u001B[38;5;129;01mis\u001B[39;00m empty:\n\u001B[0;32m---> 92\u001B[0m     \u001B[38;5;28;43mself\u001B[39;49m\u001B[38;5;241;43m.\u001B[39;49m\u001B[43m_setup\u001B[49m\u001B[43m(\u001B[49m\u001B[43mname\u001B[49m\u001B[43m)\u001B[49m\n\u001B[1;32m     93\u001B[0m     _wrapped \u001B[38;5;241m=\u001B[39m \u001B[38;5;28mself\u001B[39m\u001B[38;5;241m.\u001B[39m_wrapped\n\u001B[1;32m     94\u001B[0m val \u001B[38;5;241m=\u001B[39m \u001B[38;5;28mgetattr\u001B[39m(_wrapped, name)\n",
      "File \u001B[0;32m~/PycharmProjects/py.crepantherx.in/venv/lib/python3.11/site-packages/django/conf/__init__.py:72\u001B[0m, in \u001B[0;36mLazySettings._setup\u001B[0;34m(self, name)\u001B[0m\n\u001B[1;32m     70\u001B[0m \u001B[38;5;28;01mif\u001B[39;00m \u001B[38;5;129;01mnot\u001B[39;00m settings_module:\n\u001B[1;32m     71\u001B[0m     desc \u001B[38;5;241m=\u001B[39m (\u001B[38;5;124m\"\u001B[39m\u001B[38;5;124msetting \u001B[39m\u001B[38;5;132;01m%s\u001B[39;00m\u001B[38;5;124m\"\u001B[39m \u001B[38;5;241m%\u001B[39m name) \u001B[38;5;28;01mif\u001B[39;00m name \u001B[38;5;28;01melse\u001B[39;00m \u001B[38;5;124m\"\u001B[39m\u001B[38;5;124msettings\u001B[39m\u001B[38;5;124m\"\u001B[39m\n\u001B[0;32m---> 72\u001B[0m     \u001B[38;5;28;01mraise\u001B[39;00m ImproperlyConfigured(\n\u001B[1;32m     73\u001B[0m         \u001B[38;5;124m\"\u001B[39m\u001B[38;5;124mRequested \u001B[39m\u001B[38;5;132;01m%s\u001B[39;00m\u001B[38;5;124m, but settings are not configured. \u001B[39m\u001B[38;5;124m\"\u001B[39m\n\u001B[1;32m     74\u001B[0m         \u001B[38;5;124m\"\u001B[39m\u001B[38;5;124mYou must either define the environment variable \u001B[39m\u001B[38;5;132;01m%s\u001B[39;00m\u001B[38;5;124m \u001B[39m\u001B[38;5;124m\"\u001B[39m\n\u001B[1;32m     75\u001B[0m         \u001B[38;5;124m\"\u001B[39m\u001B[38;5;124mor call settings.configure() before accessing settings.\u001B[39m\u001B[38;5;124m\"\u001B[39m\n\u001B[1;32m     76\u001B[0m         \u001B[38;5;241m%\u001B[39m (desc, ENVIRONMENT_VARIABLE)\n\u001B[1;32m     77\u001B[0m     )\n\u001B[1;32m     79\u001B[0m \u001B[38;5;28mself\u001B[39m\u001B[38;5;241m.\u001B[39m_wrapped \u001B[38;5;241m=\u001B[39m Settings(settings_module)\n",
      "\u001B[0;31mImproperlyConfigured\u001B[0m: Requested setting DEFAULT_CHARSET, but settings are not configured. You must either define the environment variable DJANGO_SETTINGS_MODULE or call settings.configure() before accessing settings."
     ]
    }
   ],
   "execution_count": 51
  },
  {
   "metadata": {
    "ExecuteTime": {
     "end_time": "2024-10-08T13:25:46.840819Z",
     "start_time": "2024-10-08T13:25:46.757961Z"
    }
   },
   "cell_type": "code",
   "source": "",
   "id": "8f8761b21862b4ba",
   "outputs": [],
   "execution_count": 46
  }
 ],
 "metadata": {
  "kernelspec": {
   "display_name": "Python 3",
   "language": "python",
   "name": "python3"
  },
  "language_info": {
   "codemirror_mode": {
    "name": "ipython",
    "version": 2
   },
   "file_extension": ".py",
   "mimetype": "text/x-python",
   "name": "python",
   "nbconvert_exporter": "python",
   "pygments_lexer": "ipython2",
   "version": "2.7.6"
  }
 },
 "nbformat": 4,
 "nbformat_minor": 5
}
